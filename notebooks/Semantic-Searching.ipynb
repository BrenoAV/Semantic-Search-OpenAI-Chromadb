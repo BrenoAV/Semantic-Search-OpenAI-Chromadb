{
 "cells": [
  {
   "cell_type": "markdown",
   "id": "78de87d4-d88c-43ef-886b-62a57b6b8930",
   "metadata": {},
   "source": [
    "# Semantic Search\n",
    "\n",
    "Implementation of Semantic Searching using OpenAI API embedding and ChromaDB as a vector database\n",
    "\n",
    "**Last date modified:** 02/11/2024\n",
    "\n",
    "**Author:** BrenoAV"
   ]
  },
  {
   "cell_type": "markdown",
   "id": "4219eb20-e29c-4974-8a13-a17f7463ad93",
   "metadata": {},
   "source": [
    "# Importing Libraries"
   ]
  },
  {
   "cell_type": "code",
   "execution_count": 1,
   "id": "d366e923-a709-47d4-a7a0-150e3aed7852",
   "metadata": {},
   "outputs": [],
   "source": [
    "from ast import literal_eval\n",
    "import os\n",
    "from pprint import pprint\n",
    "import tempfile\n",
    "import zipfile\n",
    "\n",
    "import chromadb\n",
    "from chromadb.utils.embedding_functions import OpenAIEmbeddingFunction\n",
    "from datasets import load_dataset\n",
    "from dotenv import dotenv_values\n",
    "import pandas as pd\n",
    "import openai\n",
    "from openai import OpenAI\n",
    "import requests"
   ]
  },
  {
   "cell_type": "markdown",
   "id": "d716e460-7a09-4209-ace4-866ec6676e6f",
   "metadata": {},
   "source": [
    "# Load the secrets"
   ]
  },
  {
   "cell_type": "code",
   "execution_count": 2,
   "id": "21137640-6743-4501-9bcf-872c28b43418",
   "metadata": {},
   "outputs": [],
   "source": [
    "secrets = dotenv_values(\"../.env\")"
   ]
  },
  {
   "cell_type": "markdown",
   "id": "c86b415a-e5db-4079-8a34-f0ef2972f9fd",
   "metadata": {},
   "source": [
    "# OpenAI Client"
   ]
  },
  {
   "cell_type": "code",
   "execution_count": 3,
   "id": "fe794452-dea3-4973-8cb1-ed8b6df7eee6",
   "metadata": {},
   "outputs": [],
   "source": [
    "MODEL_NAME = \"text-embedding-3-small\""
   ]
  },
  {
   "cell_type": "code",
   "execution_count": 4,
   "id": "e21925ec-b954-44c3-8bb7-4df658c18f2c",
   "metadata": {},
   "outputs": [],
   "source": [
    "openai_client = OpenAI(api_key=secrets[\"API_KEY\"])"
   ]
  },
  {
   "cell_type": "markdown",
   "id": "ca7e7148-8555-4ecc-903c-aae4c7258181",
   "metadata": {},
   "source": [
    "# Download the dataset"
   ]
  },
  {
   "cell_type": "code",
   "execution_count": 5,
   "id": "8fb42563-9b0e-4ec7-88c1-ab15179f256a",
   "metadata": {},
   "outputs": [
    {
     "name": "stdout",
     "output_type": "stream",
     "text": [
      "/tmp/tmp353amysn.zip\n"
     ]
    }
   ],
   "source": [
    "with tempfile.NamedTemporaryFile(suffix=\".zip\", delete=True) as raw_file:\n",
    "    print(raw_file.name)\n",
    "    with requests.Session() as session:\n",
    "        r = session.get(url=\"https://data.mendeley.com/public-files/datasets/9rw3vkcfy4/files/c9ea673d-5542-44c0-ab7b-f1311f7d61df/file_downloaded\", \n",
    "                        timeout=5)\n",
    "        raw_file.write(r.content)\n",
    "    with zipfile.ZipFile(file=raw_file.name, mode=\"r\") as zip_file:\n",
    "        with zip_file.open(\"Meta-data/Data.xlsx\") as data_file:\n",
    "            df = pd.read_excel(data_file)"
   ]
  },
  {
   "cell_type": "code",
   "execution_count": 6,
   "id": "803d74b8-60e3-47c7-8283-adf330374ada",
   "metadata": {},
   "outputs": [
    {
     "data": {
      "text/html": [
       "<div>\n",
       "<style scoped>\n",
       "    .dataframe tbody tr th:only-of-type {\n",
       "        vertical-align: middle;\n",
       "    }\n",
       "\n",
       "    .dataframe tbody tr th {\n",
       "        vertical-align: top;\n",
       "    }\n",
       "\n",
       "    .dataframe thead th {\n",
       "        text-align: right;\n",
       "    }\n",
       "</style>\n",
       "<table border=\"1\" class=\"dataframe\">\n",
       "  <thead>\n",
       "    <tr style=\"text-align: right;\">\n",
       "      <th></th>\n",
       "      <th>Y1</th>\n",
       "      <th>Y2</th>\n",
       "      <th>Y</th>\n",
       "      <th>Domain</th>\n",
       "      <th>area</th>\n",
       "      <th>keywords</th>\n",
       "      <th>Abstract</th>\n",
       "    </tr>\n",
       "  </thead>\n",
       "  <tbody>\n",
       "    <tr>\n",
       "      <th>0</th>\n",
       "      <td>0</td>\n",
       "      <td>12</td>\n",
       "      <td>12</td>\n",
       "      <td>CS</td>\n",
       "      <td>Symbolic computation</td>\n",
       "      <td>(2+1)-dimensional non-linear optical waves; e...</td>\n",
       "      <td>(2 + 1)-dimensional non-linear optical waves t...</td>\n",
       "    </tr>\n",
       "    <tr>\n",
       "      <th>1</th>\n",
       "      <td>5</td>\n",
       "      <td>2</td>\n",
       "      <td>74</td>\n",
       "      <td>Medical</td>\n",
       "      <td>Alzheimer's Disease</td>\n",
       "      <td>Aging; Tau; Amyloid; PET; Alzheimer's disease...</td>\n",
       "      <td>(beta-amyloid (A beta) and tau pathology becom...</td>\n",
       "    </tr>\n",
       "    <tr>\n",
       "      <th>2</th>\n",
       "      <td>4</td>\n",
       "      <td>7</td>\n",
       "      <td>68</td>\n",
       "      <td>Civil</td>\n",
       "      <td>Green Building</td>\n",
       "      <td>LED lighting system; PV system; Distributed l...</td>\n",
       "      <td>(D)ecreasing of energy consumption and environ...</td>\n",
       "    </tr>\n",
       "    <tr>\n",
       "      <th>3</th>\n",
       "      <td>1</td>\n",
       "      <td>10</td>\n",
       "      <td>26</td>\n",
       "      <td>ECE</td>\n",
       "      <td>Electric motor</td>\n",
       "      <td>NdFeB magnets; Electric motor; Electric vehic...</td>\n",
       "      <td>(Hybrid) electric vehicles are assumed to play...</td>\n",
       "    </tr>\n",
       "    <tr>\n",
       "      <th>4</th>\n",
       "      <td>5</td>\n",
       "      <td>43</td>\n",
       "      <td>115</td>\n",
       "      <td>Medical</td>\n",
       "      <td>Parkinson's Disease</td>\n",
       "      <td>Parkinson's disease; dyskinesia; adenosine A(...</td>\n",
       "      <td>(L)-3,4-Dihydroxyphenylalanine ((L)-DOPA) rema...</td>\n",
       "    </tr>\n",
       "  </tbody>\n",
       "</table>\n",
       "</div>"
      ],
      "text/plain": [
       "   Y1  Y2    Y    Domain                     area  \\\n",
       "0   0  12   12       CS    Symbolic computation     \n",
       "1   5   2   74  Medical     Alzheimer's Disease     \n",
       "2   4   7   68    Civil          Green Building     \n",
       "3   1  10   26      ECE          Electric motor     \n",
       "4   5  43  115  Medical     Parkinson's Disease     \n",
       "\n",
       "                                            keywords  \\\n",
       "0   (2+1)-dimensional non-linear optical waves; e...   \n",
       "1   Aging; Tau; Amyloid; PET; Alzheimer's disease...   \n",
       "2   LED lighting system; PV system; Distributed l...   \n",
       "3   NdFeB magnets; Electric motor; Electric vehic...   \n",
       "4   Parkinson's disease; dyskinesia; adenosine A(...   \n",
       "\n",
       "                                            Abstract  \n",
       "0  (2 + 1)-dimensional non-linear optical waves t...  \n",
       "1  (beta-amyloid (A beta) and tau pathology becom...  \n",
       "2  (D)ecreasing of energy consumption and environ...  \n",
       "3  (Hybrid) electric vehicles are assumed to play...  \n",
       "4  (L)-3,4-Dihydroxyphenylalanine ((L)-DOPA) rema...  "
      ]
     },
     "execution_count": 6,
     "metadata": {},
     "output_type": "execute_result"
    }
   ],
   "source": [
    "df.head()"
   ]
  },
  {
   "cell_type": "code",
   "execution_count": 7,
   "id": "0dbaa83b-6e8b-4556-9955-94113ba5ef94",
   "metadata": {},
   "outputs": [
    {
     "name": "stdout",
     "output_type": "stream",
     "text": [
      "<class 'pandas.core.frame.DataFrame'>\n",
      "RangeIndex: 46985 entries, 0 to 46984\n",
      "Data columns (total 7 columns):\n",
      " #   Column    Non-Null Count  Dtype \n",
      "---  ------    --------------  ----- \n",
      " 0   Y1        46985 non-null  int64 \n",
      " 1   Y2        46985 non-null  int64 \n",
      " 2   Y         46985 non-null  int64 \n",
      " 3   Domain    46985 non-null  object\n",
      " 4   area      46985 non-null  object\n",
      " 5   keywords  46985 non-null  object\n",
      " 6   Abstract  46985 non-null  object\n",
      "dtypes: int64(3), object(4)\n",
      "memory usage: 2.5+ MB\n"
     ]
    }
   ],
   "source": [
    "df.info()"
   ]
  },
  {
   "cell_type": "code",
   "execution_count": 8,
   "id": "d2b6852b-e9f1-4949-806a-b69907293c77",
   "metadata": {},
   "outputs": [
    {
     "data": {
      "text/html": [
       "<div>\n",
       "<style scoped>\n",
       "    .dataframe tbody tr th:only-of-type {\n",
       "        vertical-align: middle;\n",
       "    }\n",
       "\n",
       "    .dataframe tbody tr th {\n",
       "        vertical-align: top;\n",
       "    }\n",
       "\n",
       "    .dataframe thead th {\n",
       "        text-align: right;\n",
       "    }\n",
       "</style>\n",
       "<table border=\"1\" class=\"dataframe\">\n",
       "  <thead>\n",
       "    <tr style=\"text-align: right;\">\n",
       "      <th></th>\n",
       "      <th>Y1</th>\n",
       "      <th>Y2</th>\n",
       "      <th>Y</th>\n",
       "      <th>Domain</th>\n",
       "      <th>area</th>\n",
       "      <th>keywords</th>\n",
       "      <th>Abstract</th>\n",
       "    </tr>\n",
       "  </thead>\n",
       "  <tbody>\n",
       "    <tr>\n",
       "      <th>0</th>\n",
       "      <td>0</td>\n",
       "      <td>12</td>\n",
       "      <td>12</td>\n",
       "      <td>CS</td>\n",
       "      <td>Symbolic computation</td>\n",
       "      <td>(2+1)-dimensional non-linear optical waves; e...</td>\n",
       "      <td>(2 + 1)-dimensional non-linear optical waves t...</td>\n",
       "    </tr>\n",
       "    <tr>\n",
       "      <th>1</th>\n",
       "      <td>5</td>\n",
       "      <td>2</td>\n",
       "      <td>74</td>\n",
       "      <td>Medical</td>\n",
       "      <td>Alzheimer's Disease</td>\n",
       "      <td>Aging; Tau; Amyloid; PET; Alzheimer's disease...</td>\n",
       "      <td>(beta-amyloid (A beta) and tau pathology becom...</td>\n",
       "    </tr>\n",
       "    <tr>\n",
       "      <th>2</th>\n",
       "      <td>4</td>\n",
       "      <td>7</td>\n",
       "      <td>68</td>\n",
       "      <td>Civil</td>\n",
       "      <td>Green Building</td>\n",
       "      <td>LED lighting system; PV system; Distributed l...</td>\n",
       "      <td>(D)ecreasing of energy consumption and environ...</td>\n",
       "    </tr>\n",
       "    <tr>\n",
       "      <th>3</th>\n",
       "      <td>1</td>\n",
       "      <td>10</td>\n",
       "      <td>26</td>\n",
       "      <td>ECE</td>\n",
       "      <td>Electric motor</td>\n",
       "      <td>NdFeB magnets; Electric motor; Electric vehic...</td>\n",
       "      <td>(Hybrid) electric vehicles are assumed to play...</td>\n",
       "    </tr>\n",
       "    <tr>\n",
       "      <th>4</th>\n",
       "      <td>5</td>\n",
       "      <td>43</td>\n",
       "      <td>115</td>\n",
       "      <td>Medical</td>\n",
       "      <td>Parkinson's Disease</td>\n",
       "      <td>Parkinson's disease; dyskinesia; adenosine A(...</td>\n",
       "      <td>(L)-3,4-Dihydroxyphenylalanine ((L)-DOPA) rema...</td>\n",
       "    </tr>\n",
       "  </tbody>\n",
       "</table>\n",
       "</div>"
      ],
      "text/plain": [
       "   Y1  Y2    Y    Domain                     area  \\\n",
       "0   0  12   12       CS    Symbolic computation     \n",
       "1   5   2   74  Medical     Alzheimer's Disease     \n",
       "2   4   7   68    Civil          Green Building     \n",
       "3   1  10   26      ECE          Electric motor     \n",
       "4   5  43  115  Medical     Parkinson's Disease     \n",
       "\n",
       "                                            keywords  \\\n",
       "0   (2+1)-dimensional non-linear optical waves; e...   \n",
       "1   Aging; Tau; Amyloid; PET; Alzheimer's disease...   \n",
       "2   LED lighting system; PV system; Distributed l...   \n",
       "3   NdFeB magnets; Electric motor; Electric vehic...   \n",
       "4   Parkinson's disease; dyskinesia; adenosine A(...   \n",
       "\n",
       "                                            Abstract  \n",
       "0  (2 + 1)-dimensional non-linear optical waves t...  \n",
       "1  (beta-amyloid (A beta) and tau pathology becom...  \n",
       "2  (D)ecreasing of energy consumption and environ...  \n",
       "3  (Hybrid) electric vehicles are assumed to play...  \n",
       "4  (L)-3,4-Dihydroxyphenylalanine ((L)-DOPA) rema...  "
      ]
     },
     "execution_count": 8,
     "metadata": {},
     "output_type": "execute_result"
    }
   ],
   "source": [
    "short_df = df.drop(df.index[20:])\n",
    "short_df.head()"
   ]
  },
  {
   "cell_type": "markdown",
   "id": "d59c7afa-ea4b-4773-a32b-97336e1fa2c1",
   "metadata": {},
   "source": [
    "# Embeddings"
   ]
  },
  {
   "cell_type": "code",
   "execution_count": 9,
   "id": "e37b0253-c4d7-481b-b472-d0d2b8dd5113",
   "metadata": {},
   "outputs": [],
   "source": [
    "text_vectors = openai_client.embeddings.create(input=short_df[\"Abstract\"], \n",
    "                                               model=MODEL_NAME)"
   ]
  },
  {
   "cell_type": "code",
   "execution_count": 10,
   "id": "0e026084-101a-4b4d-a844-8897d4e6624e",
   "metadata": {},
   "outputs": [],
   "source": [
    "short_df = pd.DataFrame(data={\"Abstract\": short_df[\"Abstract\"].tolist(), \n",
    "                        \"abstract_vector\": [records.embedding for records in text_vectors.data], \n",
    "                        \"vector_id\": list(range(0, short_df.shape[0]))})\n",
    "short_df[\"Abstract\"] = short_df[\"Abstract\"].astype(\"string\")\n",
    "short_df[\"abstract_vector\"] = short_df[\"abstract_vector\"].astype(\"string\")\n",
    "short_df[\"vector_id\"] = short_df[\"vector_id\"].astype(\"string\")"
   ]
  },
  {
   "cell_type": "code",
   "execution_count": 11,
   "id": "bef2100a-09f2-4175-994e-7685ab8bf324",
   "metadata": {},
   "outputs": [],
   "source": [
    "short_df[\"abstract_vector\"] = short_df[\"abstract_vector\"].apply(literal_eval)"
   ]
  },
  {
   "cell_type": "code",
   "execution_count": 12,
   "id": "6b5a1072-02de-4dd0-8a92-b3288c25ecda",
   "metadata": {},
   "outputs": [
    {
     "name": "stdout",
     "output_type": "stream",
     "text": [
      "<class 'pandas.core.frame.DataFrame'>\n",
      "RangeIndex: 20 entries, 0 to 19\n",
      "Data columns (total 3 columns):\n",
      " #   Column           Non-Null Count  Dtype \n",
      "---  ------           --------------  ----- \n",
      " 0   Abstract         20 non-null     string\n",
      " 1   abstract_vector  20 non-null     object\n",
      " 2   vector_id        20 non-null     string\n",
      "dtypes: object(1), string(2)\n",
      "memory usage: 608.0+ bytes\n"
     ]
    }
   ],
   "source": [
    "short_df.info()"
   ]
  },
  {
   "cell_type": "markdown",
   "id": "5ee1eaf4-10c5-42c8-a400-49e66ab67140",
   "metadata": {},
   "source": [
    "# Vector Database (Chromadb)"
   ]
  },
  {
   "cell_type": "code",
   "execution_count": 13,
   "id": "3b7bcd9b-2b5a-4e84-bead-4fb8053bb0bc",
   "metadata": {},
   "outputs": [],
   "source": [
    "# Creating ChromaDB Client\n",
    "chroma_client = chromadb.EphemeralClient()"
   ]
  },
  {
   "cell_type": "code",
   "execution_count": 14,
   "id": "789be4fb-e58a-4945-8250-009637cda253",
   "metadata": {},
   "outputs": [],
   "source": [
    "# Creating a custom embedding function using OpenAI API\n",
    "embedding_fn = OpenAIEmbeddingFunction(api_key=secrets[\"API_KEY\"], model_name=MODEL_NAME)"
   ]
  },
  {
   "cell_type": "code",
   "execution_count": 15,
   "id": "536511fc-0c68-465f-8162-26fef6accc5f",
   "metadata": {},
   "outputs": [],
   "source": [
    "# Creating a collection using the custom embedding function with cosine distance\n",
    "# This is where we can store documents, embeddings, or any additional metadata\n",
    "collection = chroma_client.create_collection(name=\"abstract_collection\", \n",
    "                                             embedding_function=embedding_fn,\n",
    "                                             metadata={\"hnsw:space\": \"cosine\"})"
   ]
  },
  {
   "cell_type": "code",
   "execution_count": 16,
   "id": "64528702-8701-4d91-bc83-7af984ef4059",
   "metadata": {},
   "outputs": [],
   "source": [
    "# Adding the id of the vectors with the respective embedded vector\n",
    "collection.add(ids=short_df[\"vector_id\"].tolist(), embeddings=short_df[\"abstract_vector\"].tolist())"
   ]
  },
  {
   "cell_type": "code",
   "execution_count": 17,
   "id": "da375bd7-2fbd-4d3f-931f-fcb9c939c3c9",
   "metadata": {},
   "outputs": [],
   "source": [
    "def query_collection(collection, query, max_results):\n",
    "    \"\"\"Query Function\"\"\"\n",
    "    results = collection.query(query_texts=query, n_results=max_results, include=[\"distances\"])\n",
    "    \n",
    "    return {\"id\": results[\"ids\"][0], \"score\": results[\"distances\"][0]}"
   ]
  },
  {
   "cell_type": "code",
   "execution_count": 18,
   "id": "6aa71da5-32a1-44ab-acca-0cb37c5f0296",
   "metadata": {},
   "outputs": [],
   "source": [
    "query = \"\"\"assert injured athletes\"\"\""
   ]
  },
  {
   "cell_type": "code",
   "execution_count": 19,
   "id": "c5d45ad1-4fac-4819-b0dd-a75d247c527a",
   "metadata": {},
   "outputs": [],
   "source": [
    "query_result = query_collection(\n",
    "    collection=collection,\n",
    "    query=query,\n",
    "    max_results=3,\n",
    ")"
   ]
  },
  {
   "cell_type": "code",
   "execution_count": 20,
   "id": "61f49ef9-3770-432b-8699-0e79394a3b62",
   "metadata": {},
   "outputs": [
    {
     "name": "stdout",
     "output_type": "stream",
     "text": [
      "{'id': ['19', '10', '18'],\n",
      " 'score': [0.5819226503372192, 0.7295423746109009, 0.7723767161369324]}\n"
     ]
    }
   ],
   "source": [
    "pprint(query_result)"
   ]
  },
  {
   "cell_type": "code",
   "execution_count": 21,
   "id": "1390e60d-8d9b-4577-916b-643650a0d7e7",
   "metadata": {},
   "outputs": [
    {
     "data": {
      "text/plain": [
       "'[Purpose] The aim of this study was to analyze stabilometry in athletes during an indoor season in order to determine whether injured athletes show different stabilometric values before injury than non-injured athletes in two different training periods (volume and pre-competition periods). [Subjects] The subjects were 51 athletes from Unicaja athletic club who trained regularly. [Methods] At the end of the preseason and volume periods, athletes were subjected to bipodal and monopodal stabilometry. In addition, all injuries happening in the periods after performing stabilometry (volume and pre-competition periods) were tracked. [Results] Variance analysis of bipodal stabilometric measurements taken at the end of the preseason period showed that athletes with higher values for the center-of-pressure spread variables suffered injuries during the volume period. The right-leg monopodal stabilometric measurements taken at the end of the volume period showed that athletes with higher values in the center-of-pressure position variables suffered injuries during the pre-competition period. [Conclusion] Athletes showing the worst values for center-of-pressure spread variables are more prone to sports injuries in the subsequent training period. In monopodal measurements, athletes with poorer mediolateral stability were more prone to injuries in the subsequent training period.'"
      ]
     },
     "execution_count": 21,
     "metadata": {},
     "output_type": "execute_result"
    }
   ],
   "source": [
    "# Taking the first result is with the lowest distance, then the most relevant\n",
    "short_df.iloc[int(query_result[\"id\"][0])][\"Abstract\"]"
   ]
  },
  {
   "cell_type": "markdown",
   "id": "1540f01f-b331-4418-a29f-daa6415edc27",
   "metadata": {},
   "source": [
    "---\n",
    "\n",
    "The query was \"assert injured athletes\" and the result is an abstract that is related to athletes and injuries situations and the value is far from the others two. "
   ]
  },
  {
   "cell_type": "code",
   "execution_count": null,
   "id": "8beb9279-a20b-4c46-8137-0b6a29b7cf47",
   "metadata": {},
   "outputs": [],
   "source": []
  }
 ],
 "metadata": {
  "kernelspec": {
   "display_name": "Python 3 (ipykernel)",
   "language": "python",
   "name": "python3"
  },
  "language_info": {
   "codemirror_mode": {
    "name": "ipython",
    "version": 3
   },
   "file_extension": ".py",
   "mimetype": "text/x-python",
   "name": "python",
   "nbconvert_exporter": "python",
   "pygments_lexer": "ipython3",
   "version": "3.10.12"
  }
 },
 "nbformat": 4,
 "nbformat_minor": 5
}
